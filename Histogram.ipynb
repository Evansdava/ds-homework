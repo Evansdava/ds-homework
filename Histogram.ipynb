{
 "cells": [
  {
   "cell_type": "code",
   "execution_count": 9,
   "metadata": {},
   "outputs": [],
   "source": [
    "import pandas as pd\n",
    "import numpy as np\n",
    "\n",
    "df = pd.read_csv('titanic.csv')"
   ]
  },
  {
   "cell_type": "code",
   "execution_count": 10,
   "metadata": {},
   "outputs": [],
   "source": [
    "def custom_hist(ls, interval_num):\n",
    "    hist = dict()\n",
    "    ls_max = np.max(ls)\n",
    "    ls_min = np.min(ls)\n",
    "    interval = (ls_max - ls_min) / interval_num\n",
    "    for j in range(int(ls_min), int(ls_max), int(interval)):\n",
    "        hist[f\"{j}-{j+int(interval)}\"] = len([num for num in ls if num > j and num <= j+interval])\n",
    "    return hist"
   ]
  },
  {
   "cell_type": "code",
   "execution_count": 11,
   "metadata": {},
   "outputs": [
    {
     "data": {
      "text/plain": [
       "{'0-5': 44,\n",
       " '5-10': 20,\n",
       " '10-15': 19,\n",
       " '15-20': 96,\n",
       " '20-25': 122,\n",
       " '25-30': 108,\n",
       " '30-35': 88,\n",
       " '35-40': 67,\n",
       " '40-45': 47,\n",
       " '45-50': 39,\n",
       " '50-55': 24,\n",
       " '55-60': 18,\n",
       " '60-65': 14,\n",
       " '65-70': 3,\n",
       " '70-75': 4,\n",
       " '75-80': 1}"
      ]
     },
     "execution_count": 11,
     "metadata": {},
     "output_type": "execute_result"
    }
   ],
   "source": [
    "custom_hist(df[\"Age\"].dropna(), 15)"
   ]
  },
  {
   "cell_type": "code",
   "execution_count": 47,
   "metadata": {},
   "outputs": [],
   "source": [
    "# Faster runtime because it loops over fewer elements\n",
    "def custom_hist_better(ls, interval_num):\n",
    "    hist = dict()\n",
    "    ls_max = np.max(ls)\n",
    "    ls_min = np.min(ls)\n",
    "    interval = (ls_max - ls_min) / interval_num\n",
    "    for j in range(int(ls_min), int(ls_max), int(interval)):\n",
    "        hist[f\"({j}, {j + int(interval)})\"] = 0\n",
    "    for i in ls:\n",
    "        for key in hist.keys():\n",
    "            tup = eval(key)\n",
    "            if i > int(tup[0]) and i <= int(tup[1]):\n",
    "                hist[key] += 1\n",
    "    return hist"
   ]
  },
  {
   "cell_type": "code",
   "execution_count": 13,
   "metadata": {},
   "outputs": [
    {
     "data": {
      "text/plain": [
       "{'(0, 5)': 44,\n",
       " '(5, 10)': 20,\n",
       " '(10, 15)': 19,\n",
       " '(15, 20)': 96,\n",
       " '(20, 25)': 122,\n",
       " '(25, 30)': 108,\n",
       " '(30, 35)': 88,\n",
       " '(35, 40)': 67,\n",
       " '(40, 45)': 47,\n",
       " '(45, 50)': 39,\n",
       " '(50, 55)': 24,\n",
       " '(55, 60)': 18,\n",
       " '(60, 65)': 14,\n",
       " '(65, 70)': 3,\n",
       " '(70, 75)': 4,\n",
       " '(75, 80)': 1}"
      ]
     },
     "execution_count": 13,
     "metadata": {},
     "output_type": "execute_result"
    }
   ],
   "source": [
    "custom_hist_better(df[\"Age\"].dropna(), 15)"
   ]
  },
  {
   "cell_type": "code",
   "execution_count": 14,
   "metadata": {},
   "outputs": [],
   "source": [
    "# Loops over entire list once and assigns to a temporary dictionary, then re-evaluates those to get buckets\n",
    "# Theoretically fastest, but shown to be less accurate\n",
    "def custom_hist_best(ls, interval_num):\n",
    "    hist_all = dict()\n",
    "    hist_int = dict()\n",
    "    ls_max = np.max(ls)\n",
    "    ls_min = np.min(ls)\n",
    "    interval = (ls_max - ls_min) / interval_num\n",
    "    for i in ls:\n",
    "        hist_all[i] = hist_all.get(i, 0) + 1\n",
    "    for j in range(int(ls_min), int(ls_max), int(interval)):\n",
    "        hist_int[f\"({j}, {j + int(interval)})\"] = 0\n",
    "    for key in hist_int.keys():\n",
    "        for k in hist_all.keys():\n",
    "            tup = eval(key)\n",
    "            if int(k) > int(tup[0]) and int(k) <= int(tup[1]):\n",
    "                hist_int[key] += hist_all[k]\n",
    "    return hist_int"
   ]
  },
  {
   "cell_type": "code",
   "execution_count": 15,
   "metadata": {},
   "outputs": [
    {
     "data": {
      "text/plain": [
       "{'(0, 5)': 37,\n",
       " '(5, 10)': 20,\n",
       " '(10, 15)': 19,\n",
       " '(15, 20)': 97,\n",
       " '(20, 25)': 121,\n",
       " '(25, 30)': 110,\n",
       " '(30, 35)': 86,\n",
       " '(35, 40)': 69,\n",
       " '(40, 45)': 47,\n",
       " '(45, 50)': 37,\n",
       " '(50, 55)': 25,\n",
       " '(55, 60)': 17,\n",
       " '(60, 65)': 14,\n",
       " '(65, 70)': 4,\n",
       " '(70, 75)': 3,\n",
       " '(75, 80)': 1}"
      ]
     },
     "execution_count": 15,
     "metadata": {},
     "output_type": "execute_result"
    }
   ],
   "source": [
    "custom_hist_best(df[\"Age\"].dropna(), 15)"
   ]
  },
  {
   "cell_type": "code",
   "execution_count": 46,
   "metadata": {},
   "outputs": [
    {
     "data": {
      "text/plain": [
       "([0, 1, 2, 3, 4, 5, 6, 7, 8, 9, 10, 11, 12, 13, 14, 15, 16, 17, 18, 19],\n",
       " <a list of 20 Text xticklabel objects>)"
      ]
     },
     "execution_count": 46,
     "metadata": {},
     "output_type": "execute_result"
    },
    {
     "data": {
      "image/png": "[encoded data removed]",
      "text/plain": [
       "<Figure size 432x288 with 1 Axes>"
      ]
     },
     "metadata": {
      "needs_background": "light"
     },
     "output_type": "display_data"
    }
   ],
   "source": [
    "import matplotlib.pyplot as plt\n",
    "\n",
    "hist_dict = custom_hist_better(df['Age'].dropna().values, 16)\n",
    "\n",
    "plt.bar(hist_dict.keys(), hist_dict.values())\n",
    "plt.xticks(rotation=45)"
   ]
  },
  {
   "cell_type": "code",
   "execution_count": 29,
   "metadata": {},
   "outputs": [],
   "source": [
    "hist_male = custom_hist_better(df[df.Sex == 'male']['Age'].dropna().values, 16)\n",
    "hist_female = custom_hist_better(df[df.Sex == 'male']['Age'].dropna().values, 16)"
   ]
  },
  {
   "cell_type": "code",
   "execution_count": 41,
   "metadata": {},
   "outputs": [
    {
     "data": {
      "text/plain": [
       "{'(0, 4)': 23,\n",
       " '(4, 8)': 5,\n",
       " '(8, 12)': 9,\n",
       " '(12, 16)': 14,\n",
       " '(16, 20)': 51,\n",
       " '(20, 24)': 58,\n",
       " '(24, 28)': 62,\n",
       " '(28, 32)': 55,\n",
       " '(32, 36)': 47,\n",
       " '(36, 40)': 27,\n",
       " '(40, 44)': 23,\n",
       " '(44, 48)': 23,\n",
       " '(48, 52)': 19,\n",
       " '(52, 56)': 10,\n",
       " '(56, 60)': 8,\n",
       " '(60, 64)': 8,\n",
       " '(64, 68)': 4,\n",
       " '(68, 72)': 5,\n",
       " '(72, 76)': 1,\n",
       " '(76, 80)': 1}"
      ]
     },
     "execution_count": 41,
     "metadata": {},
     "output_type": "execute_result"
    }
   ],
   "source": [
    "hist_male"
   ]
  },
  {
   "cell_type": "code",
   "execution_count": 30,
   "metadata": {},
   "outputs": [
    {
     "data": {
      "text/plain": [
       "Sex\n",
       "female    AxesSubplot(0.125,0.125;0.775x0.755)\n",
       "male      AxesSubplot(0.125,0.125;0.775x0.755)\n",
       "Name: Age, dtype: object"
      ]
     },
     "execution_count": 30,
     "metadata": {},
     "output_type": "execute_result"
    },
    {
     "data": {
      "image/png": "[encoded data removed]",
      "text/plain": [
       "<Figure size 432x288 with 1 Axes>"
      ]
     },
     "metadata": {
      "needs_background": "light"
     },
     "output_type": "display_data"
    }
   ],
   "source": [
    "df.groupby('Sex')['Age'].plot(kind='hist', bins=16, alpha=0.5, legend=True)"
   ]
  },
  {
   "cell_type": "code",
   "execution_count": null,
   "metadata": {},
   "outputs": [],
   "source": []
  },
  {
   "cell_type": "code",
   "execution_count": null,
   "metadata": {},
   "outputs": [],
   "source": []
  }
 ],
 "metadata": {
  "kernelspec": {
   "display_name": "Python 3",
   "language": "python",
   "name": "python3"
  },
  "language_info": {
   "codemirror_mode": {
    "name": "ipython",
    "version": 3
   },
   "file_extension": ".py",
   "mimetype": "text/x-python",
   "name": "python",
   "nbconvert_exporter": "python",
   "pygments_lexer": "ipython3",
   "version": "3.7.4"
  }
 },
 "nbformat": 4,
 "nbformat_minor": 4
}
